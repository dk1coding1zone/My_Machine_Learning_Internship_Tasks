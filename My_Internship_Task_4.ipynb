{
  "nbformat": 4,
  "nbformat_minor": 0,
  "metadata": {
    "colab": {
      "provenance": []
    },
    "kernelspec": {
      "name": "python3",
      "display_name": "Python 3"
    },
    "language_info": {
      "name": "python"
    }
  },
  "cells": [
    {
      "cell_type": "markdown",
      "source": [
        "### Placement Prediction\n",
        "\n",
        "The data set consists of placement data of a campus drive. It includes the secondary,\n",
        "higher secondary percentage of students, their specialisation etc. It also shows who is placed\n",
        "and who is not with the salary they get offered.\n",
        "\n",
        "\n",
        "**Columns:**\n",
        "\n",
        "\n",
        "1. Sl_no – serial number\n",
        "2. Gender – gender of candidate\n",
        "3. Ssc_p – Secondary education percentage(10th)\n",
        "4. Ssc_b – Board of SSC (central/others)\n",
        "5. Hsc_p – Higher secondary education percentage(12th)\n",
        "6. Hsc_b - Board of HSC (central/others)\n",
        "7. Hsc_s – Specialisation in HSC (Arts, Commerce, Science)\n",
        "8. Degree_p – Degree percentage.\n",
        "9. Degree_t – Degree type (Commerce & Management, Science & Technology, Others)\n",
        "10. Workex – Work experience\n",
        "11. Etest_p – Employee test percentage (Conducted by college)\n",
        "12. Specialisation – Post Graduation MBA specialisation (Mkt & Fin, Mkt & Hr)\n",
        "13. Mba_p – MBA percentage\n",
        "14. Status – Status of placement (Placed/Not placed)\n",
        "15. Salary – Salary offered by company to candidate\n",
        "\n",
        "\n",
        "**What you have to find/perform?**\n",
        "\n",
        "\n",
        "1. Which factor influenced in candidate getting placed?\n",
        "2. Which degree is in demand by corporate?\n",
        "3. Create a classification model to predict who will be placed and who will not.\n",
        "4. Can you predict the salary? Create a model for it"
      ],
      "metadata": {
        "id": "EZH2h-7_oWdf"
      }
    },
    {
      "cell_type": "markdown",
      "source": [
        "## What we have done :\n",
        "\n",
        "The code performs the following steps:\n",
        "\n",
        "* Loads the dataset and performs data preprocessing.\n",
        "* Encodes categorical variables using label encoding.\n",
        "* Splits the data into features and target variables.\n",
        "* Splits the data into training and testing sets.\n",
        "* Performs feature scaling on the feature variables.\n",
        "* Builds a Random Forest Classifier to identify the factors influencing candidate placement.\n",
        "* Calculates the average placement status for each degree type to determine the degree demand.\n",
        "* Builds a Random Forest Classifier to predict placement status.\n",
        "* Evaluates the classification model using accuracy.\n",
        "* Splits the data for the regression model to predict salary.\n",
        "* Builds a Linear Regression model to predict salary.\n",
        "* Evaluates the regression model using mean squared error (MSE)."
      ],
      "metadata": {
        "id": "MsOobKSOKADG"
      }
    },
    {
      "cell_type": "markdown",
      "source": [
        "Imports the required libraries for data manipulation, modeling, and evaluation."
      ],
      "metadata": {
        "id": "874nJ4B2BbDr"
      }
    },
    {
      "cell_type": "markdown",
      "source": [
        "### Importing necessary libraries"
      ],
      "metadata": {
        "id": "itkpS4VOG8jl"
      }
    },
    {
      "cell_type": "code",
      "source": [
        "import pandas as pd\n",
        "import numpy as np\n",
        "from sklearn.model_selection import train_test_split\n",
        "from sklearn.preprocessing import LabelEncoder, StandardScaler\n",
        "from sklearn.ensemble import RandomForestClassifier\n",
        "from sklearn.linear_model import LinearRegression\n",
        "from sklearn.metrics import accuracy_score, mean_squared_error\n"
      ],
      "metadata": {
        "id": "whvZi6_1BsQc"
      },
      "execution_count": 84,
      "outputs": []
    },
    {
      "cell_type": "markdown",
      "source": [
        "load the dataset from the CSV file into a pandas DataFrame called data."
      ],
      "metadata": {
        "id": "87lJKqnJBv16"
      }
    },
    {
      "cell_type": "code",
      "source": [
        "# Load the dataset\n",
        "data = pd.read_csv('placement_data.csv')\n"
      ],
      "metadata": {
        "id": "JKSuuffJB0sR"
      },
      "execution_count": 63,
      "outputs": []
    },
    {
      "cell_type": "markdown",
      "source": [
        "Desplaying few datasets"
      ],
      "metadata": {
        "id": "gG7brbuAHFJC"
      }
    },
    {
      "cell_type": "code",
      "source": [
        "data.head()"
      ],
      "metadata": {
        "colab": {
          "base_uri": "https://localhost:8080/",
          "height": 206
        },
        "id": "Fe3g7Dp1HKnu",
        "outputId": "34604cd1-0576-4dc4-ae08-af6690c17b33"
      },
      "execution_count": 85,
      "outputs": [
        {
          "output_type": "execute_result",
          "data": {
            "text/plain": [
              "   gender  ssc_p  ssc_b  hsc_p  hsc_b  hsc_s  degree_p  degree_t  workex  \\\n",
              "0       1  67.00      1  91.00      1      1     58.00         2       0   \n",
              "1       1  79.33      0  78.33      1      2     77.48         2       1   \n",
              "2       1  65.00      0  68.00      0      0     64.00         0       0   \n",
              "3       1  56.00      0  52.00      0      2     52.00         2       0   \n",
              "4       1  85.80      0  73.60      0      1     73.30         0       0   \n",
              "\n",
              "   etest_p  specialisation  mba_p  status    salary  \n",
              "0     55.0               1  58.80       1  270000.0  \n",
              "1     86.5               0  66.28       1  200000.0  \n",
              "2     75.0               0  57.80       1  250000.0  \n",
              "3     66.0               1  59.43       0       0.0  \n",
              "4     96.8               0  55.50       1  425000.0  "
            ],
            "text/html": [
              "\n",
              "  <div id=\"df-22645214-51b5-4dcb-85d7-af74c998523f\">\n",
              "    <div class=\"colab-df-container\">\n",
              "      <div>\n",
              "<style scoped>\n",
              "    .dataframe tbody tr th:only-of-type {\n",
              "        vertical-align: middle;\n",
              "    }\n",
              "\n",
              "    .dataframe tbody tr th {\n",
              "        vertical-align: top;\n",
              "    }\n",
              "\n",
              "    .dataframe thead th {\n",
              "        text-align: right;\n",
              "    }\n",
              "</style>\n",
              "<table border=\"1\" class=\"dataframe\">\n",
              "  <thead>\n",
              "    <tr style=\"text-align: right;\">\n",
              "      <th></th>\n",
              "      <th>gender</th>\n",
              "      <th>ssc_p</th>\n",
              "      <th>ssc_b</th>\n",
              "      <th>hsc_p</th>\n",
              "      <th>hsc_b</th>\n",
              "      <th>hsc_s</th>\n",
              "      <th>degree_p</th>\n",
              "      <th>degree_t</th>\n",
              "      <th>workex</th>\n",
              "      <th>etest_p</th>\n",
              "      <th>specialisation</th>\n",
              "      <th>mba_p</th>\n",
              "      <th>status</th>\n",
              "      <th>salary</th>\n",
              "    </tr>\n",
              "  </thead>\n",
              "  <tbody>\n",
              "    <tr>\n",
              "      <th>0</th>\n",
              "      <td>1</td>\n",
              "      <td>67.00</td>\n",
              "      <td>1</td>\n",
              "      <td>91.00</td>\n",
              "      <td>1</td>\n",
              "      <td>1</td>\n",
              "      <td>58.00</td>\n",
              "      <td>2</td>\n",
              "      <td>0</td>\n",
              "      <td>55.0</td>\n",
              "      <td>1</td>\n",
              "      <td>58.80</td>\n",
              "      <td>1</td>\n",
              "      <td>270000.0</td>\n",
              "    </tr>\n",
              "    <tr>\n",
              "      <th>1</th>\n",
              "      <td>1</td>\n",
              "      <td>79.33</td>\n",
              "      <td>0</td>\n",
              "      <td>78.33</td>\n",
              "      <td>1</td>\n",
              "      <td>2</td>\n",
              "      <td>77.48</td>\n",
              "      <td>2</td>\n",
              "      <td>1</td>\n",
              "      <td>86.5</td>\n",
              "      <td>0</td>\n",
              "      <td>66.28</td>\n",
              "      <td>1</td>\n",
              "      <td>200000.0</td>\n",
              "    </tr>\n",
              "    <tr>\n",
              "      <th>2</th>\n",
              "      <td>1</td>\n",
              "      <td>65.00</td>\n",
              "      <td>0</td>\n",
              "      <td>68.00</td>\n",
              "      <td>0</td>\n",
              "      <td>0</td>\n",
              "      <td>64.00</td>\n",
              "      <td>0</td>\n",
              "      <td>0</td>\n",
              "      <td>75.0</td>\n",
              "      <td>0</td>\n",
              "      <td>57.80</td>\n",
              "      <td>1</td>\n",
              "      <td>250000.0</td>\n",
              "    </tr>\n",
              "    <tr>\n",
              "      <th>3</th>\n",
              "      <td>1</td>\n",
              "      <td>56.00</td>\n",
              "      <td>0</td>\n",
              "      <td>52.00</td>\n",
              "      <td>0</td>\n",
              "      <td>2</td>\n",
              "      <td>52.00</td>\n",
              "      <td>2</td>\n",
              "      <td>0</td>\n",
              "      <td>66.0</td>\n",
              "      <td>1</td>\n",
              "      <td>59.43</td>\n",
              "      <td>0</td>\n",
              "      <td>0.0</td>\n",
              "    </tr>\n",
              "    <tr>\n",
              "      <th>4</th>\n",
              "      <td>1</td>\n",
              "      <td>85.80</td>\n",
              "      <td>0</td>\n",
              "      <td>73.60</td>\n",
              "      <td>0</td>\n",
              "      <td>1</td>\n",
              "      <td>73.30</td>\n",
              "      <td>0</td>\n",
              "      <td>0</td>\n",
              "      <td>96.8</td>\n",
              "      <td>0</td>\n",
              "      <td>55.50</td>\n",
              "      <td>1</td>\n",
              "      <td>425000.0</td>\n",
              "    </tr>\n",
              "  </tbody>\n",
              "</table>\n",
              "</div>\n",
              "      <button class=\"colab-df-convert\" onclick=\"convertToInteractive('df-22645214-51b5-4dcb-85d7-af74c998523f')\"\n",
              "              title=\"Convert this dataframe to an interactive table.\"\n",
              "              style=\"display:none;\">\n",
              "        \n",
              "  <svg xmlns=\"http://www.w3.org/2000/svg\" height=\"24px\"viewBox=\"0 0 24 24\"\n",
              "       width=\"24px\">\n",
              "    <path d=\"M0 0h24v24H0V0z\" fill=\"none\"/>\n",
              "    <path d=\"M18.56 5.44l.94 2.06.94-2.06 2.06-.94-2.06-.94-.94-2.06-.94 2.06-2.06.94zm-11 1L8.5 8.5l.94-2.06 2.06-.94-2.06-.94L8.5 2.5l-.94 2.06-2.06.94zm10 10l.94 2.06.94-2.06 2.06-.94-2.06-.94-.94-2.06-.94 2.06-2.06.94z\"/><path d=\"M17.41 7.96l-1.37-1.37c-.4-.4-.92-.59-1.43-.59-.52 0-1.04.2-1.43.59L10.3 9.45l-7.72 7.72c-.78.78-.78 2.05 0 2.83L4 21.41c.39.39.9.59 1.41.59.51 0 1.02-.2 1.41-.59l7.78-7.78 2.81-2.81c.8-.78.8-2.07 0-2.86zM5.41 20L4 18.59l7.72-7.72 1.47 1.35L5.41 20z\"/>\n",
              "  </svg>\n",
              "      </button>\n",
              "      \n",
              "  <style>\n",
              "    .colab-df-container {\n",
              "      display:flex;\n",
              "      flex-wrap:wrap;\n",
              "      gap: 12px;\n",
              "    }\n",
              "\n",
              "    .colab-df-convert {\n",
              "      background-color: #E8F0FE;\n",
              "      border: none;\n",
              "      border-radius: 50%;\n",
              "      cursor: pointer;\n",
              "      display: none;\n",
              "      fill: #1967D2;\n",
              "      height: 32px;\n",
              "      padding: 0 0 0 0;\n",
              "      width: 32px;\n",
              "    }\n",
              "\n",
              "    .colab-df-convert:hover {\n",
              "      background-color: #E2EBFA;\n",
              "      box-shadow: 0px 1px 2px rgba(60, 64, 67, 0.3), 0px 1px 3px 1px rgba(60, 64, 67, 0.15);\n",
              "      fill: #174EA6;\n",
              "    }\n",
              "\n",
              "    [theme=dark] .colab-df-convert {\n",
              "      background-color: #3B4455;\n",
              "      fill: #D2E3FC;\n",
              "    }\n",
              "\n",
              "    [theme=dark] .colab-df-convert:hover {\n",
              "      background-color: #434B5C;\n",
              "      box-shadow: 0px 1px 3px 1px rgba(0, 0, 0, 0.15);\n",
              "      filter: drop-shadow(0px 1px 2px rgba(0, 0, 0, 0.3));\n",
              "      fill: #FFFFFF;\n",
              "    }\n",
              "  </style>\n",
              "\n",
              "      <script>\n",
              "        const buttonEl =\n",
              "          document.querySelector('#df-22645214-51b5-4dcb-85d7-af74c998523f button.colab-df-convert');\n",
              "        buttonEl.style.display =\n",
              "          google.colab.kernel.accessAllowed ? 'block' : 'none';\n",
              "\n",
              "        async function convertToInteractive(key) {\n",
              "          const element = document.querySelector('#df-22645214-51b5-4dcb-85d7-af74c998523f');\n",
              "          const dataTable =\n",
              "            await google.colab.kernel.invokeFunction('convertToInteractive',\n",
              "                                                     [key], {});\n",
              "          if (!dataTable) return;\n",
              "\n",
              "          const docLinkHtml = 'Like what you see? Visit the ' +\n",
              "            '<a target=\"_blank\" href=https://colab.research.google.com/notebooks/data_table.ipynb>data table notebook</a>'\n",
              "            + ' to learn more about interactive tables.';\n",
              "          element.innerHTML = '';\n",
              "          dataTable['output_type'] = 'display_data';\n",
              "          await google.colab.output.renderOutput(dataTable, element);\n",
              "          const docLink = document.createElement('div');\n",
              "          docLink.innerHTML = docLinkHtml;\n",
              "          element.appendChild(docLink);\n",
              "        }\n",
              "      </script>\n",
              "    </div>\n",
              "  </div>\n",
              "  "
            ]
          },
          "metadata": {},
          "execution_count": 85
        }
      ]
    },
    {
      "cell_type": "markdown",
      "source": [
        "### Data preprocessing"
      ],
      "metadata": {
        "id": "pSHDefm-HT20"
      }
    },
    {
      "cell_type": "markdown",
      "source": [
        "perform data preprocessing tasks. The 'sl_no' column is dropped as it is unnecessary. Missing values in the 'salary' column are filled with 0."
      ],
      "metadata": {
        "id": "w03hThMRB5MA"
      }
    },
    {
      "cell_type": "code",
      "source": [
        "data = data.drop(columns=['sl_no'])  # Drop unnecessary column\n",
        "data['salary'] = data['salary'].fillna(0)  # Fill missing salary values with 0\n"
      ],
      "metadata": {
        "id": "6keW7eBLCGnT"
      },
      "execution_count": 65,
      "outputs": []
    },
    {
      "cell_type": "markdown",
      "source": [
        "### Encoding categorical variables"
      ],
      "metadata": {
        "id": "njAz4MxZHqwB"
      }
    },
    {
      "cell_type": "markdown",
      "source": [
        "Encode the categorical variables using the LabelEncoder from scikit-learn. Each categorical column is transformed into numeric representation."
      ],
      "metadata": {
        "id": "LEqtfmjGCVEM"
      }
    },
    {
      "cell_type": "code",
      "source": [
        "le = LabelEncoder()\n",
        "data['gender'] = le.fit_transform(data['gender'])\n",
        "data['ssc_b'] = le.fit_transform(data['ssc_b'])\n",
        "data['hsc_b'] = le.fit_transform(data['hsc_b'])\n",
        "data['hsc_s'] = le.fit_transform(data['hsc_s'])\n",
        "data['degree_t'] = le.fit_transform(data['degree_t'])\n",
        "data['workex'] = le.fit_transform(data['workex'])\n",
        "data['specialisation'] = le.fit_transform(data['specialisation'])\n",
        "data['status'] = le.fit_transform(data['status'])\n"
      ],
      "metadata": {
        "id": "ahAbI8rxHna9"
      },
      "execution_count": 86,
      "outputs": []
    },
    {
      "cell_type": "markdown",
      "source": [
        "### Splitting the data into features and target"
      ],
      "metadata": {
        "id": "wZRZj1jFH0Dk"
      }
    },
    {
      "cell_type": "markdown",
      "source": [
        "Separate the features (X) and the target variable (y) from the dataset. The 'status' column is the target variable."
      ],
      "metadata": {
        "id": "ZlU9pRlUCdec"
      }
    },
    {
      "cell_type": "code",
      "source": [
        "X = data.drop(columns=['status', 'salary'])\n",
        "y = data['status']\n"
      ],
      "metadata": {
        "id": "1hG7rKhQCrpE"
      },
      "execution_count": 67,
      "outputs": []
    },
    {
      "cell_type": "markdown",
      "source": [
        "### Splitting the data into training and testing sets"
      ],
      "metadata": {
        "id": "KRCYEJJvIGWQ"
      }
    },
    {
      "cell_type": "markdown",
      "source": [
        " Split the dataset into training and testing sets for both classification and regression models. The data is split into 80% training and 20% testing, and a random_state of 42 is set for reproducibility."
      ],
      "metadata": {
        "id": "7J6qgb48C3J1"
      }
    },
    {
      "cell_type": "code",
      "source": [
        "X_train, X_test, y_train, y_test = train_test_split(X, y, test_size=0.2, random_state=42)\n"
      ],
      "metadata": {
        "id": "XXH-zY1VC5Eq"
      },
      "execution_count": 68,
      "outputs": []
    },
    {
      "cell_type": "markdown",
      "source": [
        "### Feature scaling"
      ],
      "metadata": {
        "id": "HjlJbs8pILWg"
      }
    },
    {
      "cell_type": "markdown",
      "source": [
        "Perform feature scaling on the training and testing sets using the StandardScaler from scikit-learn. It standardizes the features by subtracting the mean and scaling to unit variance."
      ],
      "metadata": {
        "id": "uPAioeYeDAhf"
      }
    },
    {
      "cell_type": "code",
      "source": [
        "scaler = StandardScaler()\n",
        "X_train = scaler.fit_transform(X_train)\n",
        "X_test = scaler.transform(X_test)\n"
      ],
      "metadata": {
        "id": "OtCa_ZReD5y4"
      },
      "execution_count": 69,
      "outputs": []
    },
    {
      "cell_type": "markdown",
      "source": [
        "### 1. Which factor influenced the candidate getting placed?"
      ],
      "metadata": {
        "id": "CCSsiCGOIWI8"
      }
    },
    {
      "cell_type": "markdown",
      "source": [
        "For the question of which factors influenced the candidate getting placed, a Random Forest Classifier (rf_clf) is trained on the training set (X_train, y_train). The feature importances are then calculated using the feature_importances_ attribute of the trained classifier. The feature importances are sorted in descending order and displayed, indicating the relative importance of each feature in determining the placement status."
      ],
      "metadata": {
        "id": "vw3yH2iwD_Hc"
      }
    },
    {
      "cell_type": "code",
      "source": [
        "# Building a Random Forest Classifier to identify important features\n",
        "rf_clf = RandomForestClassifier()\n",
        "rf_clf.fit(X_train, y_train)\n",
        "feature_importances = pd.DataFrame({'Feature': X.columns, 'Importance': rf_clf.feature_importances_})\n",
        "feature_importances = feature_importances.sort_values('Importance', ascending=False)\n",
        "print(\"Factors influencing candidate getting placed:\")\n",
        "print(feature_importances)\n"
      ],
      "metadata": {
        "colab": {
          "base_uri": "https://localhost:8080/"
        },
        "id": "NZivJ3QpEN7d",
        "outputId": "e2bc277e-217e-4923-f561-b319df6bda3f"
      },
      "execution_count": 70,
      "outputs": [
        {
          "output_type": "stream",
          "name": "stdout",
          "text": [
            "Factors influencing candidate getting placed:\n",
            "           Feature  Importance\n",
            "1            ssc_p    0.272093\n",
            "6         degree_p    0.214039\n",
            "3            hsc_p    0.188781\n",
            "11           mba_p    0.100634\n",
            "9          etest_p    0.075529\n",
            "8           workex    0.038986\n",
            "10  specialisation    0.032375\n",
            "5            hsc_s    0.020584\n",
            "0           gender    0.018487\n",
            "2            ssc_b    0.013448\n",
            "7         degree_t    0.012630\n",
            "4            hsc_b    0.012415\n"
          ]
        }
      ]
    },
    {
      "cell_type": "markdown",
      "source": [
        "### 2. Which degree is in demand by corporate?"
      ],
      "metadata": {
        "id": "7dDsfLJKIayT"
      }
    },
    {
      "cell_type": "markdown",
      "source": [
        "To determine which degree is in demand by corporate, the dataset is grouped by the 'degree_t' column. Then, the average placement status for each degree type is calculated using the mean() function. The results are sorted in descending order, indicating the degree demand by corporate."
      ],
      "metadata": {
        "id": "IsklbIOgERO8"
      }
    },
    {
      "cell_type": "code",
      "source": [
        "# Calculating the average placement status for each degree type\n",
        "degrees_demand = data.groupby('degree_t')['status'].mean().sort_values(ascending=False)\n",
        "print(\"\\nDegree demand by corporate:\")\n",
        "print(degrees_demand)\n"
      ],
      "metadata": {
        "colab": {
          "base_uri": "https://localhost:8080/"
        },
        "id": "pbCVjGCUEa6I",
        "outputId": "2cb1ddb1-c22c-40b8-9bdf-922e06e7dbe3"
      },
      "execution_count": 72,
      "outputs": [
        {
          "output_type": "stream",
          "name": "stdout",
          "text": [
            "\n",
            "Degree demand by corporate:\n",
            "degree_t\n",
            "0    0.703448\n",
            "2    0.694915\n",
            "1    0.454545\n",
            "Name: status, dtype: float64\n"
          ]
        }
      ]
    },
    {
      "cell_type": "markdown",
      "source": [
        "### 3. Create a classification model to predict who will be placed and who will not."
      ],
      "metadata": {
        "id": "o5gfUgr3IhnI"
      }
    },
    {
      "cell_type": "markdown",
      "source": [
        "For the task of creating a classification model to predict who will be placed and who will not, a Random Forest Classifier (clf) is trained on the training set (X_train, y_train). The trained model is then evaluated by predicting the target variable for the test set (X_test) and calculating the accuracy score using accuracy_score(). The accuracy of the classification model is printed."
      ],
      "metadata": {
        "id": "90qloT0ZEwBI"
      }
    },
    {
      "cell_type": "code",
      "source": [
        "# Training the Random Forest Classifier\n",
        "clf = RandomForestClassifier()\n",
        "clf.fit(X_train, y_train)\n",
        "\n",
        "# Evaluating the model\n",
        "y_pred = clf.predict(X_test)\n",
        "accuracy = accuracy_score(y_test, y_pred)\n",
        "print(\"\\nClassification Model Accuracy:\", accuracy)\n"
      ],
      "metadata": {
        "colab": {
          "base_uri": "https://localhost:8080/"
        },
        "id": "VQvpiBL_EwqP",
        "outputId": "e074ea30-c23c-490b-a8b8-bdf5c54b2299"
      },
      "execution_count": 73,
      "outputs": [
        {
          "output_type": "stream",
          "name": "stdout",
          "text": [
            "\n",
            "Classification Model Accuracy: 0.7906976744186046\n"
          ]
        }
      ]
    },
    {
      "cell_type": "markdown",
      "source": [
        "### 4. Can you predict the salary? Create a model for it"
      ],
      "metadata": {
        "id": "7jzWl5oAIpXO"
      }
    },
    {
      "cell_type": "markdown",
      "source": [
        "To predict the salary, the dataset is filtered to include only the rows with non-null salary values. The features are separated into X_salary, excluding the 'salary' column, and the target variable is stored in y_salary."
      ],
      "metadata": {
        "id": "iV0sJzlHFAqA"
      }
    },
    {
      "cell_type": "code",
      "source": [
        "# Splitting the data for regression model\n",
        "salary_data = data.dropna(subset=['salary'])\n",
        "X_salary = salary_data.drop(columns=['salary'])\n",
        "y_salary = salary_data['salary']"
      ],
      "metadata": {
        "id": "5vD5fnZGFBgX"
      },
      "execution_count": 74,
      "outputs": []
    },
    {
      "cell_type": "markdown",
      "source": [
        "Next, the data is split into training and testing sets for the regression model."
      ],
      "metadata": {
        "id": "LLB-Pl0HFHp-"
      }
    },
    {
      "cell_type": "code",
      "source": [
        "X_train_salary, X_test_salary, y_train_salary, y_test_salary = train_test_split(X_salary, y_salary,\n",
        "                                                                                test_size=0.2, random_state=42)"
      ],
      "metadata": {
        "id": "9X51kDtmFR88"
      },
      "execution_count": 76,
      "outputs": []
    },
    {
      "cell_type": "markdown",
      "source": [
        "The training set is used to train a Linear Regression model (regression_model) using fit()"
      ],
      "metadata": {
        "id": "NXqn40xyFcxO"
      }
    },
    {
      "cell_type": "code",
      "source": [
        "\n",
        "# Training the Linear Regression model\n",
        "regression_model = LinearRegression()\n",
        "regression_model.fit(X_train_salary, y_train_salary)\n"
      ],
      "metadata": {
        "colab": {
          "base_uri": "https://localhost:8080/",
          "height": 75
        },
        "id": "g4iM5_49FmMy",
        "outputId": "4bb4a991-176d-4935-92c8-07a272215f41"
      },
      "execution_count": 77,
      "outputs": [
        {
          "output_type": "execute_result",
          "data": {
            "text/plain": [
              "LinearRegression()"
            ],
            "text/html": [
              "<style>#sk-container-id-1 {color: black;background-color: white;}#sk-container-id-1 pre{padding: 0;}#sk-container-id-1 div.sk-toggleable {background-color: white;}#sk-container-id-1 label.sk-toggleable__label {cursor: pointer;display: block;width: 100%;margin-bottom: 0;padding: 0.3em;box-sizing: border-box;text-align: center;}#sk-container-id-1 label.sk-toggleable__label-arrow:before {content: \"▸\";float: left;margin-right: 0.25em;color: #696969;}#sk-container-id-1 label.sk-toggleable__label-arrow:hover:before {color: black;}#sk-container-id-1 div.sk-estimator:hover label.sk-toggleable__label-arrow:before {color: black;}#sk-container-id-1 div.sk-toggleable__content {max-height: 0;max-width: 0;overflow: hidden;text-align: left;background-color: #f0f8ff;}#sk-container-id-1 div.sk-toggleable__content pre {margin: 0.2em;color: black;border-radius: 0.25em;background-color: #f0f8ff;}#sk-container-id-1 input.sk-toggleable__control:checked~div.sk-toggleable__content {max-height: 200px;max-width: 100%;overflow: auto;}#sk-container-id-1 input.sk-toggleable__control:checked~label.sk-toggleable__label-arrow:before {content: \"▾\";}#sk-container-id-1 div.sk-estimator input.sk-toggleable__control:checked~label.sk-toggleable__label {background-color: #d4ebff;}#sk-container-id-1 div.sk-label input.sk-toggleable__control:checked~label.sk-toggleable__label {background-color: #d4ebff;}#sk-container-id-1 input.sk-hidden--visually {border: 0;clip: rect(1px 1px 1px 1px);clip: rect(1px, 1px, 1px, 1px);height: 1px;margin: -1px;overflow: hidden;padding: 0;position: absolute;width: 1px;}#sk-container-id-1 div.sk-estimator {font-family: monospace;background-color: #f0f8ff;border: 1px dotted black;border-radius: 0.25em;box-sizing: border-box;margin-bottom: 0.5em;}#sk-container-id-1 div.sk-estimator:hover {background-color: #d4ebff;}#sk-container-id-1 div.sk-parallel-item::after {content: \"\";width: 100%;border-bottom: 1px solid gray;flex-grow: 1;}#sk-container-id-1 div.sk-label:hover label.sk-toggleable__label {background-color: #d4ebff;}#sk-container-id-1 div.sk-serial::before {content: \"\";position: absolute;border-left: 1px solid gray;box-sizing: border-box;top: 0;bottom: 0;left: 50%;z-index: 0;}#sk-container-id-1 div.sk-serial {display: flex;flex-direction: column;align-items: center;background-color: white;padding-right: 0.2em;padding-left: 0.2em;position: relative;}#sk-container-id-1 div.sk-item {position: relative;z-index: 1;}#sk-container-id-1 div.sk-parallel {display: flex;align-items: stretch;justify-content: center;background-color: white;position: relative;}#sk-container-id-1 div.sk-item::before, #sk-container-id-1 div.sk-parallel-item::before {content: \"\";position: absolute;border-left: 1px solid gray;box-sizing: border-box;top: 0;bottom: 0;left: 50%;z-index: -1;}#sk-container-id-1 div.sk-parallel-item {display: flex;flex-direction: column;z-index: 1;position: relative;background-color: white;}#sk-container-id-1 div.sk-parallel-item:first-child::after {align-self: flex-end;width: 50%;}#sk-container-id-1 div.sk-parallel-item:last-child::after {align-self: flex-start;width: 50%;}#sk-container-id-1 div.sk-parallel-item:only-child::after {width: 0;}#sk-container-id-1 div.sk-dashed-wrapped {border: 1px dashed gray;margin: 0 0.4em 0.5em 0.4em;box-sizing: border-box;padding-bottom: 0.4em;background-color: white;}#sk-container-id-1 div.sk-label label {font-family: monospace;font-weight: bold;display: inline-block;line-height: 1.2em;}#sk-container-id-1 div.sk-label-container {text-align: center;}#sk-container-id-1 div.sk-container {/* jupyter's `normalize.less` sets `[hidden] { display: none; }` but bootstrap.min.css set `[hidden] { display: none !important; }` so we also need the `!important` here to be able to override the default hidden behavior on the sphinx rendered scikit-learn.org. See: https://github.com/scikit-learn/scikit-learn/issues/21755 */display: inline-block !important;position: relative;}#sk-container-id-1 div.sk-text-repr-fallback {display: none;}</style><div id=\"sk-container-id-1\" class=\"sk-top-container\"><div class=\"sk-text-repr-fallback\"><pre>LinearRegression()</pre><b>In a Jupyter environment, please rerun this cell to show the HTML representation or trust the notebook. <br />On GitHub, the HTML representation is unable to render, please try loading this page with nbviewer.org.</b></div><div class=\"sk-container\" hidden><div class=\"sk-item\"><div class=\"sk-estimator sk-toggleable\"><input class=\"sk-toggleable__control sk-hidden--visually\" id=\"sk-estimator-id-1\" type=\"checkbox\" checked><label for=\"sk-estimator-id-1\" class=\"sk-toggleable__label sk-toggleable__label-arrow\">LinearRegression</label><div class=\"sk-toggleable__content\"><pre>LinearRegression()</pre></div></div></div></div></div>"
            ]
          },
          "metadata": {},
          "execution_count": 77
        }
      ]
    },
    {
      "cell_type": "markdown",
      "source": [
        "Then, the model is evaluated by predicting the salaries for the test set (X_test_salary) and calculating the mean squared error (mean_squared_error()) between the predicted and actual salaries. The mean squared error (MSE) is printed as the evaluation metric for the regression model."
      ],
      "metadata": {
        "id": "vGvJnzPOFr0J"
      }
    },
    {
      "cell_type": "code",
      "source": [
        "# Evaluating the model\n",
        "y_pred_salary = regression_model.predict(X_test_salary)\n",
        "mse = mean_squared_error(y_test_salary, y_pred_salary)\n",
        "print(\"\\nRegression Model MSE:\", mse)"
      ],
      "metadata": {
        "colab": {
          "base_uri": "https://localhost:8080/"
        },
        "id": "UjCvbL-NFxZQ",
        "outputId": "6c996c6e-8750-4fd8-ad08-1659d71f5a75"
      },
      "execution_count": 78,
      "outputs": [
        {
          "output_type": "stream",
          "name": "stdout",
          "text": [
            "\n",
            "Regression Model MSE: 5922427490.991434\n"
          ]
        }
      ]
    },
    {
      "cell_type": "markdown",
      "source": [
        "## Visualizations:"
      ],
      "metadata": {
        "id": "GkAoauFfI1a3"
      }
    },
    {
      "cell_type": "code",
      "source": [
        "import matplotlib.pyplot as plt\n",
        "import seaborn as sns\n"
      ],
      "metadata": {
        "id": "JUVgMA53GBaS"
      },
      "execution_count": 79,
      "outputs": []
    },
    {
      "cell_type": "markdown",
      "source": [
        "### 1. Which factor influenced in candidate getting placed?"
      ],
      "metadata": {
        "id": "dQq52GK3JFiK"
      }
    },
    {
      "cell_type": "code",
      "source": [
        "# Plotting feature importances\n",
        "plt.figure(figsize=(10, 6))\n",
        "sns.barplot(x='Importance', y='Feature', data=feature_importances)\n",
        "plt.title(\"Factors Influencing Candidate Placement\")\n",
        "plt.xlabel(\"Importance\")\n",
        "plt.ylabel(\"Feature\")\n",
        "plt.show()"
      ],
      "metadata": {
        "colab": {
          "base_uri": "https://localhost:8080/",
          "height": 564
        },
        "id": "WoMR31pNGF_w",
        "outputId": "257d46cf-0e95-4d2c-804f-bc66b9fb9f07"
      },
      "execution_count": 80,
      "outputs": [
        {
          "output_type": "display_data",
          "data": {
            "text/plain": [
              "<Figure size 1000x600 with 1 Axes>"
            ],
            "image/png": "[encoded data removed]"
          },
          "metadata": {}
        }
      ]
    },
    {
      "cell_type": "markdown",
      "source": [
        "### 2. Which degree is in demand by corporate?"
      ],
      "metadata": {
        "id": "sbFLcAtQJKfw"
      }
    },
    {
      "cell_type": "code",
      "source": [
        "# Plotting degree demand\n",
        "plt.figure(figsize=(8, 6))\n",
        "sns.barplot(x=degrees_demand.values, y=degrees_demand.index)\n",
        "plt.title(\"Degree Demand by Corporate\")\n",
        "plt.xlabel(\"Placement Status\")\n",
        "plt.ylabel(\"Degree\")\n",
        "plt.show()\n"
      ],
      "metadata": {
        "colab": {
          "base_uri": "https://localhost:8080/",
          "height": 564
        },
        "id": "iC54g0fGGJ7M",
        "outputId": "a96f38f2-f754-407c-d9eb-1efa67d9cde7"
      },
      "execution_count": 81,
      "outputs": [
        {
          "output_type": "display_data",
          "data": {
            "text/plain": [
              "<Figure size 800x600 with 1 Axes>"
            ],
            "image/png": "[encoded data removed]"
          },
          "metadata": {}
        }
      ]
    },
    {
      "cell_type": "markdown",
      "source": [
        "### 3. Create a classification model to predict who will be placed and who will not."
      ],
      "metadata": {
        "id": "7P41qFOEJU02"
      }
    },
    {
      "cell_type": "code",
      "source": [
        "# Visualizing the confusion matrix\n",
        "plt.figure(figsize=(6, 4))\n",
        "sns.heatmap(pd.crosstab(y_test, y_pred), annot=True, fmt='d', cmap='Blues')\n",
        "plt.title(\"Confusion Matrix - Classification Model\")\n",
        "plt.xlabel(\"Predicted\")\n",
        "plt.ylabel(\"Actual\")\n",
        "plt.show()"
      ],
      "metadata": {
        "colab": {
          "base_uri": "https://localhost:8080/",
          "height": 410
        },
        "id": "2yM6WngQGLpC",
        "outputId": "0b93019a-b446-442c-9ca4-1e735956ad7d"
      },
      "execution_count": 82,
      "outputs": [
        {
          "output_type": "display_data",
          "data": {
            "text/plain": [
              "<Figure size 600x400 with 2 Axes>"
            ],
            "image/png": "[encoded data removed]"
          },
          "metadata": {}
        }
      ]
    },
    {
      "cell_type": "markdown",
      "source": [
        "### 4. Can you predict the salary? Create a model for it"
      ],
      "metadata": {
        "id": "xHx9PX4vJfn1"
      }
    },
    {
      "cell_type": "code",
      "source": [
        "# Plotting actual vs predicted salaries\n",
        "plt.figure(figsize=(8, 6))\n",
        "plt.scatter(y_test_salary, y_pred_salary)\n",
        "plt.plot([0, 600000], [0, 600000], color='red', linestyle='--')\n",
        "plt.title(\"Actual vs Predicted Salary\")\n",
        "plt.xlabel(\"Actual Salary\")\n",
        "plt.ylabel(\"Predicted Salary\")\n",
        "plt.show()"
      ],
      "metadata": {
        "colab": {
          "base_uri": "https://localhost:8080/",
          "height": 564
        },
        "id": "VmYbVH0nGUEW",
        "outputId": "2c17909f-070b-497f-82bc-17f2d31f3302"
      },
      "execution_count": 83,
      "outputs": [
        {
          "output_type": "display_data",
          "data": {
            "text/plain": [
              "<Figure size 800x600 with 1 Axes>"
            ],
            "image/png": "[encoded data removed]"
          },
          "metadata": {}
        }
      ]
    },
    {
      "cell_type": "markdown",
      "source": [],
      "metadata": {
        "id": "hfUkZT-1F3fh"
      }
    }
  ]
}