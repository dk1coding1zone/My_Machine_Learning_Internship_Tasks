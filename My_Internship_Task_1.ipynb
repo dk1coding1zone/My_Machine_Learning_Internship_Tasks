{
  "nbformat": 4,
  "nbformat_minor": 0,
  "metadata": {
    "colab": {
      "provenance": [],
      "gpuType": "T4"
    },
    "kernelspec": {
      "name": "python3",
      "display_name": "Python 3"
    },
    "language_info": {
      "name": "python"
    },
    "accelerator": "GPU"
  },
  "cells": [
    {
      "cell_type": "markdown",
      "source": [
        "# Personal Insurance on Lifestyle\n",
        "## Content:\n",
        "Dataset contains customer’s information based on their lifestyle and insurance cost.\n",
        "Data is collected by an insurance company.\n",
        "\n",
        "## Format:\n",
        "* No of Vehicle- How many vehicles owned\n",
        "* Vacations/Year- Number of vacations in one year\n",
        "* Vacation Type- Places of vacation(Domestic/International)\n",
        "* Brand conscious- Is customer brand conscious?\n",
        "* Hobbies- Main hobby\n",
        "* Existing Insurance Coverage- Type of current insurance\n",
        "* Medical History- Did have any medical history\n",
        "* Living Region-\n",
        "* Bmi- Body mass index\n",
        "* Age- Age in complete years\n",
        "* Gender\n",
        "* Salary- per month\n",
        "* Insurance Type- Dependent variable\n",
        "\n",
        "## Task:\n",
        "\n",
        "1. Can you accurately predict insurance type?\n",
        "2. Make cluster analysis for insurance type and age?"
      ],
      "metadata": {
        "id": "enpQMh69qUkb"
      }
    },
    {
      "cell_type": "markdown",
      "source": [
        "**K-means clustering is a popular unsupervised machine learning algorithm used for clustering analysis.**\n",
        "\n",
        "In the of approach this problem, we are interested in understanding the relationship between 'Insurance Type' and 'Age' and how they can be grouped together. By applying K-means clustering, we can identify distinct clusters in the data based on these variables.\n",
        "\n",
        "Algorithm steps for clustering:\n",
        "\n",
        "* Importing the necessary libraries, including the KMeans class from scikit-learn.\n",
        "\n",
        "* create a DataFrame called cluster_data that includes the 'Insurance Type' and 'Age' columns from the original data.\n",
        "\n",
        "* initialize a K-means clustering object, kmeans, with a specified number of clusters (in this case, 3) and a random state for reproducibility.\n",
        "\n",
        "* fit the K-means model to the 'Age' column in cluster_data using kmeans.fit().\n",
        "\n",
        "* assign cluster labels to each data point in cluster_data using kmeans.labels_.\n",
        "\n",
        "*  add the cluster labels as a new column, 'Cluster', to cluster_data.\n",
        "\n",
        "*  plot the clusters using a scatter plot, where 'Age' is on the x-axis and 'Insurance Type' is on the y-axis. Each cluster is represented by a different color."
      ],
      "metadata": {
        "id": "sFOx3g0rq-bv"
      }
    },
    {
      "cell_type": "markdown",
      "source": [
        "Import the necessary libraries: **pandas** for data manipulation, **sklearn.cluster.KMeans** for K-means clustering, **matplotlib.pyplot** for plotting, and **seaborn** for enhanced data visualization."
      ],
      "metadata": {
        "id": "Q7uPiC8SuO-b"
      }
    },
    {
      "cell_type": "code",
      "source": [
        "import pandas as pd\n",
        "from sklearn.cluster import KMeans\n",
        "import matplotlib.pyplot as plt\n",
        "import seaborn as sns\n",
        "from sklearn.ensemble import RandomForestClassifier\n",
        "from sklearn.model_selection import train_test_split\n",
        "from sklearn.metrics import accuracy_score\n"
      ],
      "metadata": {
        "id": "mbvv80cmvJKh"
      },
      "execution_count": 21,
      "outputs": []
    },
    {
      "cell_type": "markdown",
      "source": [
        "Read the dataset from a CSV file named **\"personal_insurance_on_lifestyle.csv\"** into a **pandas DataFrame** called data"
      ],
      "metadata": {
        "id": "YaaEHBM6vLW6"
      }
    },
    {
      "cell_type": "code",
      "source": [
        "data = pd.read_csv('personal_insurance_on_lifestyle.csv')"
      ],
      "metadata": {
        "id": "9BFCZv2RvhEB"
      },
      "execution_count": 22,
      "outputs": []
    },
    {
      "cell_type": "markdown",
      "source": [
        " Separate the features (X) and the target variable (y) from the data DataFrame. The **drop** function is used to remove the column named 'Insurance Type' from X, and it is assigned to the variable y."
      ],
      "metadata": {
        "id": "WxdgQ6W3wHLf"
      }
    },
    {
      "cell_type": "code",
      "source": [
        "X = data.drop('Insurance Type', axis=1)\n",
        "y = data['Insurance Type']"
      ],
      "metadata": {
        "id": "SzckP-4OwjmA"
      },
      "execution_count": 23,
      "outputs": []
    },
    {
      "cell_type": "markdown",
      "source": [
        "Performs one-hot encoding on the categorical features in X using the **get_dummies** function from **pandas**. It converts categorical variables into binary columns, making them suitable for machine learning algorithms."
      ],
      "metadata": {
        "id": "pVJmMHNV0Sqe"
      }
    },
    {
      "cell_type": "code",
      "source": [
        "X_encoded = pd.get_dummies(X)"
      ],
      "metadata": {
        "id": "pPwNg5qE3KeK"
      },
      "execution_count": 24,
      "outputs": []
    },
    {
      "cell_type": "markdown",
      "source": [
        "Split the encoded features (X_encoded) and the target variable (y) into training and testing sets using the train_test_split function from scikit-learn. It randomly shuffles and divides the data into 80% for training (X_train and y_train) and 20% for testing (X_test and y_test)."
      ],
      "metadata": {
        "id": "3xlt2q803O4s"
      }
    },
    {
      "cell_type": "code",
      "source": [
        "from sklearn.model_selection import train_test_split\n",
        "X_train, X_test, y_train, y_test = train_test_split(X_encoded, y, test_size=0.2, random_state=42)"
      ],
      "metadata": {
        "id": "V1zQykdJ3bSR"
      },
      "execution_count": 25,
      "outputs": []
    },
    {
      "cell_type": "markdown",
      "source": [
        "Create an instance of the **andomForestClassifierR** class from **scikit-learn**, assigns it to the variable classifier, and trains the classifier on the training data (X_train and y_train) using the fit method."
      ],
      "metadata": {
        "id": "ibv4ZPKf3ili"
      }
    },
    {
      "cell_type": "code",
      "source": [
        "classifier = RandomForestClassifier()\n",
        "classifier.fit(X_train, y_train)"
      ],
      "metadata": {
        "colab": {
          "base_uri": "https://localhost:8080/",
          "height": 75
        },
        "id": "-g-Nccbs36bO",
        "outputId": "52a3ff58-2b6d-4bf1-da92-17e9a5a9025d"
      },
      "execution_count": 26,
      "outputs": [
        {
          "output_type": "execute_result",
          "data": {
            "text/plain": [
              "RandomForestClassifier()"
            ],
            "text/html": [
              "<style>#sk-container-id-3 {color: black;background-color: white;}#sk-container-id-3 pre{padding: 0;}#sk-container-id-3 div.sk-toggleable {background-color: white;}#sk-container-id-3 label.sk-toggleable__label {cursor: pointer;display: block;width: 100%;margin-bottom: 0;padding: 0.3em;box-sizing: border-box;text-align: center;}#sk-container-id-3 label.sk-toggleable__label-arrow:before {content: \"▸\";float: left;margin-right: 0.25em;color: #696969;}#sk-container-id-3 label.sk-toggleable__label-arrow:hover:before {color: black;}#sk-container-id-3 div.sk-estimator:hover label.sk-toggleable__label-arrow:before {color: black;}#sk-container-id-3 div.sk-toggleable__content {max-height: 0;max-width: 0;overflow: hidden;text-align: left;background-color: #f0f8ff;}#sk-container-id-3 div.sk-toggleable__content pre {margin: 0.2em;color: black;border-radius: 0.25em;background-color: #f0f8ff;}#sk-container-id-3 input.sk-toggleable__control:checked~div.sk-toggleable__content {max-height: 200px;max-width: 100%;overflow: auto;}#sk-container-id-3 input.sk-toggleable__control:checked~label.sk-toggleable__label-arrow:before {content: \"▾\";}#sk-container-id-3 div.sk-estimator input.sk-toggleable__control:checked~label.sk-toggleable__label {background-color: #d4ebff;}#sk-container-id-3 div.sk-label input.sk-toggleable__control:checked~label.sk-toggleable__label {background-color: #d4ebff;}#sk-container-id-3 input.sk-hidden--visually {border: 0;clip: rect(1px 1px 1px 1px);clip: rect(1px, 1px, 1px, 1px);height: 1px;margin: -1px;overflow: hidden;padding: 0;position: absolute;width: 1px;}#sk-container-id-3 div.sk-estimator {font-family: monospace;background-color: #f0f8ff;border: 1px dotted black;border-radius: 0.25em;box-sizing: border-box;margin-bottom: 0.5em;}#sk-container-id-3 div.sk-estimator:hover {background-color: #d4ebff;}#sk-container-id-3 div.sk-parallel-item::after {content: \"\";width: 100%;border-bottom: 1px solid gray;flex-grow: 1;}#sk-container-id-3 div.sk-label:hover label.sk-toggleable__label {background-color: #d4ebff;}#sk-container-id-3 div.sk-serial::before {content: \"\";position: absolute;border-left: 1px solid gray;box-sizing: border-box;top: 0;bottom: 0;left: 50%;z-index: 0;}#sk-container-id-3 div.sk-serial {display: flex;flex-direction: column;align-items: center;background-color: white;padding-right: 0.2em;padding-left: 0.2em;position: relative;}#sk-container-id-3 div.sk-item {position: relative;z-index: 1;}#sk-container-id-3 div.sk-parallel {display: flex;align-items: stretch;justify-content: center;background-color: white;position: relative;}#sk-container-id-3 div.sk-item::before, #sk-container-id-3 div.sk-parallel-item::before {content: \"\";position: absolute;border-left: 1px solid gray;box-sizing: border-box;top: 0;bottom: 0;left: 50%;z-index: -1;}#sk-container-id-3 div.sk-parallel-item {display: flex;flex-direction: column;z-index: 1;position: relative;background-color: white;}#sk-container-id-3 div.sk-parallel-item:first-child::after {align-self: flex-end;width: 50%;}#sk-container-id-3 div.sk-parallel-item:last-child::after {align-self: flex-start;width: 50%;}#sk-container-id-3 div.sk-parallel-item:only-child::after {width: 0;}#sk-container-id-3 div.sk-dashed-wrapped {border: 1px dashed gray;margin: 0 0.4em 0.5em 0.4em;box-sizing: border-box;padding-bottom: 0.4em;background-color: white;}#sk-container-id-3 div.sk-label label {font-family: monospace;font-weight: bold;display: inline-block;line-height: 1.2em;}#sk-container-id-3 div.sk-label-container {text-align: center;}#sk-container-id-3 div.sk-container {/* jupyter's `normalize.less` sets `[hidden] { display: none; }` but bootstrap.min.css set `[hidden] { display: none !important; }` so we also need the `!important` here to be able to override the default hidden behavior on the sphinx rendered scikit-learn.org. See: https://github.com/scikit-learn/scikit-learn/issues/21755 */display: inline-block !important;position: relative;}#sk-container-id-3 div.sk-text-repr-fallback {display: none;}</style><div id=\"sk-container-id-3\" class=\"sk-top-container\"><div class=\"sk-text-repr-fallback\"><pre>RandomForestClassifier()</pre><b>In a Jupyter environment, please rerun this cell to show the HTML representation or trust the notebook. <br />On GitHub, the HTML representation is unable to render, please try loading this page with nbviewer.org.</b></div><div class=\"sk-container\" hidden><div class=\"sk-item\"><div class=\"sk-estimator sk-toggleable\"><input class=\"sk-toggleable__control sk-hidden--visually\" id=\"sk-estimator-id-3\" type=\"checkbox\" checked><label for=\"sk-estimator-id-3\" class=\"sk-toggleable__label sk-toggleable__label-arrow\">RandomForestClassifier</label><div class=\"sk-toggleable__content\"><pre>RandomForestClassifier()</pre></div></div></div></div></div>"
            ]
          },
          "metadata": {},
          "execution_count": 26
        }
      ]
    },
    {
      "cell_type": "markdown",
      "source": [
        "This line uses the trained classifier to predict the insurance type for the test set **(X_test)** and assigns the predictions to **y_pred.**"
      ],
      "metadata": {
        "id": "7D8bVb2h34bJ"
      }
    },
    {
      "cell_type": "code",
      "source": [
        "y_pred = classifier.predict(X_test)"
      ],
      "metadata": {
        "id": "n3VmwXgY4FDr"
      },
      "execution_count": 27,
      "outputs": []
    },
    {
      "cell_type": "markdown",
      "source": [
        "Import the accuracy_score function from scikit-learn to calculate the accuracy of the classifier's predictions **(y_pred)** compared to the actual labels **(y_test)**. The accuracy score is then printed."
      ],
      "metadata": {
        "id": "DODBMzwy4KRd"
      }
    },
    {
      "cell_type": "code",
      "source": [
        "from sklearn.metrics import accuracy_score\n",
        "accuracy = accuracy_score(y_test, y_pred)\n",
        "print(\"Accuracy:\", accuracy)\n"
      ],
      "metadata": {
        "colab": {
          "base_uri": "https://localhost:8080/"
        },
        "id": "loHAM57n4bj-",
        "outputId": "cda41843-7439-4ec4-d97f-321508d5da46"
      },
      "execution_count": 28,
      "outputs": [
        {
          "output_type": "stream",
          "name": "stdout",
          "text": [
            "Accuracy: 1.0\n"
          ]
        }
      ]
    },
    {
      "cell_type": "markdown",
      "source": [
        "Creates a new DataFrame called cluster_data with two columns: 'Age' and 'Insurance Type'. It extracts these columns from the original data DataFrame."
      ],
      "metadata": {
        "id": "KYLF7_xq4e99"
      }
    },
    {
      "cell_type": "code",
      "source": [
        "cluster_data = pd.DataFrame({\n",
        "    'Age': data['Age'],\n",
        "    'Insurance Type': data['Insurance Type']\n",
        "})\n"
      ],
      "metadata": {
        "id": "5hCqFzsJ4sFu"
      },
      "execution_count": 29,
      "outputs": []
    },
    {
      "cell_type": "markdown",
      "source": [
        "Create an instance of the **KMeans **class with **n_clusters=3,** which specifies the number of clusters desired. The **random_state** parameter sets the seed for random number generation. The fit method then performs K-means clustering on the 'Age' column of** cluster_data**"
      ],
      "metadata": {
        "id": "BFecVmeI4wC2"
      }
    },
    {
      "cell_type": "code",
      "source": [
        "kmeans = KMeans(n_clusters=3, random_state=42)\n",
        "kmeans.fit(cluster_data[['Age']])"
      ],
      "metadata": {
        "colab": {
          "base_uri": "https://localhost:8080/",
          "height": 129
        },
        "id": "DErBoF5_5CQH",
        "outputId": "b52f8beb-a9a9-4900-98a1-4dd0b8884c23"
      },
      "execution_count": 30,
      "outputs": [
        {
          "output_type": "stream",
          "name": "stderr",
          "text": [
            "/usr/local/lib/python3.10/dist-packages/sklearn/cluster/_kmeans.py:870: FutureWarning: The default value of `n_init` will change from 10 to 'auto' in 1.4. Set the value of `n_init` explicitly to suppress the warning\n",
            "  warnings.warn(\n"
          ]
        },
        {
          "output_type": "execute_result",
          "data": {
            "text/plain": [
              "KMeans(n_clusters=3, random_state=42)"
            ],
            "text/html": [
              "<style>#sk-container-id-4 {color: black;background-color: white;}#sk-container-id-4 pre{padding: 0;}#sk-container-id-4 div.sk-toggleable {background-color: white;}#sk-container-id-4 label.sk-toggleable__label {cursor: pointer;display: block;width: 100%;margin-bottom: 0;padding: 0.3em;box-sizing: border-box;text-align: center;}#sk-container-id-4 label.sk-toggleable__label-arrow:before {content: \"▸\";float: left;margin-right: 0.25em;color: #696969;}#sk-container-id-4 label.sk-toggleable__label-arrow:hover:before {color: black;}#sk-container-id-4 div.sk-estimator:hover label.sk-toggleable__label-arrow:before {color: black;}#sk-container-id-4 div.sk-toggleable__content {max-height: 0;max-width: 0;overflow: hidden;text-align: left;background-color: #f0f8ff;}#sk-container-id-4 div.sk-toggleable__content pre {margin: 0.2em;color: black;border-radius: 0.25em;background-color: #f0f8ff;}#sk-container-id-4 input.sk-toggleable__control:checked~div.sk-toggleable__content {max-height: 200px;max-width: 100%;overflow: auto;}#sk-container-id-4 input.sk-toggleable__control:checked~label.sk-toggleable__label-arrow:before {content: \"▾\";}#sk-container-id-4 div.sk-estimator input.sk-toggleable__control:checked~label.sk-toggleable__label {background-color: #d4ebff;}#sk-container-id-4 div.sk-label input.sk-toggleable__control:checked~label.sk-toggleable__label {background-color: #d4ebff;}#sk-container-id-4 input.sk-hidden--visually {border: 0;clip: rect(1px 1px 1px 1px);clip: rect(1px, 1px, 1px, 1px);height: 1px;margin: -1px;overflow: hidden;padding: 0;position: absolute;width: 1px;}#sk-container-id-4 div.sk-estimator {font-family: monospace;background-color: #f0f8ff;border: 1px dotted black;border-radius: 0.25em;box-sizing: border-box;margin-bottom: 0.5em;}#sk-container-id-4 div.sk-estimator:hover {background-color: #d4ebff;}#sk-container-id-4 div.sk-parallel-item::after {content: \"\";width: 100%;border-bottom: 1px solid gray;flex-grow: 1;}#sk-container-id-4 div.sk-label:hover label.sk-toggleable__label {background-color: #d4ebff;}#sk-container-id-4 div.sk-serial::before {content: \"\";position: absolute;border-left: 1px solid gray;box-sizing: border-box;top: 0;bottom: 0;left: 50%;z-index: 0;}#sk-container-id-4 div.sk-serial {display: flex;flex-direction: column;align-items: center;background-color: white;padding-right: 0.2em;padding-left: 0.2em;position: relative;}#sk-container-id-4 div.sk-item {position: relative;z-index: 1;}#sk-container-id-4 div.sk-parallel {display: flex;align-items: stretch;justify-content: center;background-color: white;position: relative;}#sk-container-id-4 div.sk-item::before, #sk-container-id-4 div.sk-parallel-item::before {content: \"\";position: absolute;border-left: 1px solid gray;box-sizing: border-box;top: 0;bottom: 0;left: 50%;z-index: -1;}#sk-container-id-4 div.sk-parallel-item {display: flex;flex-direction: column;z-index: 1;position: relative;background-color: white;}#sk-container-id-4 div.sk-parallel-item:first-child::after {align-self: flex-end;width: 50%;}#sk-container-id-4 div.sk-parallel-item:last-child::after {align-self: flex-start;width: 50%;}#sk-container-id-4 div.sk-parallel-item:only-child::after {width: 0;}#sk-container-id-4 div.sk-dashed-wrapped {border: 1px dashed gray;margin: 0 0.4em 0.5em 0.4em;box-sizing: border-box;padding-bottom: 0.4em;background-color: white;}#sk-container-id-4 div.sk-label label {font-family: monospace;font-weight: bold;display: inline-block;line-height: 1.2em;}#sk-container-id-4 div.sk-label-container {text-align: center;}#sk-container-id-4 div.sk-container {/* jupyter's `normalize.less` sets `[hidden] { display: none; }` but bootstrap.min.css set `[hidden] { display: none !important; }` so we also need the `!important` here to be able to override the default hidden behavior on the sphinx rendered scikit-learn.org. See: https://github.com/scikit-learn/scikit-learn/issues/21755 */display: inline-block !important;position: relative;}#sk-container-id-4 div.sk-text-repr-fallback {display: none;}</style><div id=\"sk-container-id-4\" class=\"sk-top-container\"><div class=\"sk-text-repr-fallback\"><pre>KMeans(n_clusters=3, random_state=42)</pre><b>In a Jupyter environment, please rerun this cell to show the HTML representation or trust the notebook. <br />On GitHub, the HTML representation is unable to render, please try loading this page with nbviewer.org.</b></div><div class=\"sk-container\" hidden><div class=\"sk-item\"><div class=\"sk-estimator sk-toggleable\"><input class=\"sk-toggleable__control sk-hidden--visually\" id=\"sk-estimator-id-4\" type=\"checkbox\" checked><label for=\"sk-estimator-id-4\" class=\"sk-toggleable__label sk-toggleable__label-arrow\">KMeans</label><div class=\"sk-toggleable__content\"><pre>KMeans(n_clusters=3, random_state=42)</pre></div></div></div></div></div>"
            ]
          },
          "metadata": {},
          "execution_count": 30
        }
      ]
    },
    {
      "cell_type": "markdown",
      "source": [
        "Add a new column named 'Cluster' to **cluster_data** and assigns the cluster labels obtained from the **K-means** clustering to this column."
      ],
      "metadata": {
        "id": "tn4Winmd5FWF"
      }
    },
    {
      "cell_type": "code",
      "source": [
        "cluster_data['Cluster'] = kmeans.labels_\n"
      ],
      "metadata": {
        "id": "6qWqmubb5M7C"
      },
      "execution_count": 31,
      "outputs": []
    },
    {
      "cell_type": "markdown",
      "source": [
        "Use **seaborn (sns)** and **matplotlib (plt)** to create a scatter plot. The plot visualizes the relationship between 'Age' and 'Insurance Type' from **cluster_data**. Each point is colored according to its assigned cluster label ('Cluster'). The title function sets the title of the plot, and show displays the plot on the screen."
      ],
      "metadata": {
        "id": "RAM29a4A5Tzx"
      }
    },
    {
      "cell_type": "code",
      "source": [
        "sns.scatterplot(data=cluster_data, x='Age', y='Insurance Type', hue='Cluster')\n",
        "plt.title('Cluster Analysis for Insurance Type and Age')\n",
        "plt.show()"
      ],
      "metadata": {
        "colab": {
          "base_uri": "https://localhost:8080/",
          "height": 472
        },
        "id": "L4oA4pog5WP2",
        "outputId": "2078a3f3-0b01-41b6-a1b5-0dadf61ff9c2"
      },
      "execution_count": 32,
      "outputs": [
        {
          "output_type": "display_data",
          "data": {
            "text/plain": [
              "<Figure size 640x480 with 1 Axes>"
            ],
            "image/png": "[encoded data removed]"
          },
          "metadata": {}
        }
      ]
    }
  ]
}